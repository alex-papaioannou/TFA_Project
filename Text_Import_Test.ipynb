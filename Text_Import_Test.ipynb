{
 "cells": [
  {
   "cell_type": "code",
   "execution_count": 28,
   "metadata": {},
   "outputs": [
    {
     "name": "stdout",
     "output_type": "stream",
     "text": [
      "840~Candy~Big Maybelle.txt\n",
      "['Some', 'say', 'that', 'love', 'is', 'sweet', 'as', 'a', 'rose', 'Some', 'say', 'it', 's', 'honey', 'and', 'the', 'bee', 'Well', 'sit', 'right', 'down', 'and', 'let', 'me', 'tell', 'you', 'What', 'my', 'love', 'is', 'to', 'me', 'Candy', 'I', 'call', 'my', 'sugar', 'Candy', 'Because', 'I', 'm', 'sweet', 'on', 'Candy', 'And', 'Candy', 'is', 'sweet', 'on', 'me', 'He', 'She', 'understands', 'me', 'My', 'understanding', 'Candy', 'And', 'Candy', 's', 'always', 'handy', 'When', 'I', 'need', 'sympathy', 'I', 'wish', 'that', 'there', 'were', 'four', 'of', 'him', 'her', 'So', 'I', 'could', 'love', 'much', 'more', 'of', 'him', 'her', 'He', 'She', 'has', 'taken', 'my', 'complete', 'heart', 'Got', 'a', 'sweet', 'tooth', 'for', 'my', 'sweetheart', 'Candy', 'Its', 'gonna', 'be', 'just', 'dandy', 'The', 'day', 'I', 'take', 'my', 'Candy', 'And', 'make', 'him', 'mine', 'all', 'mine', 'Mine']\n",
      "Counter({'Candy': 8, 'I': 6, 'my': 5, 'sweet': 4, 'me': 4, 'love': 3, 'is': 3, 'And': 3, 'him': 3, 'Some': 2, 'say': 2, 'that': 2, 'a': 2, 's': 2, 'and': 2, 'on': 2, 'He': 2, 'She': 2, 'of': 2, 'her': 2, 'mine': 2, 'as': 1, 'rose': 1, 'it': 1, 'honey': 1, 'the': 1, 'bee': 1, 'Well': 1, 'sit': 1, 'right': 1, 'down': 1, 'let': 1, 'tell': 1, 'you': 1, 'What': 1, 'to': 1, 'call': 1, 'sugar': 1, 'Because': 1, 'm': 1, 'understands': 1, 'My': 1, 'understanding': 1, 'always': 1, 'handy': 1, 'When': 1, 'need': 1, 'sympathy': 1, 'wish': 1, 'there': 1, 'were': 1, 'four': 1, 'So': 1, 'could': 1, 'much': 1, 'more': 1, 'has': 1, 'taken': 1, 'complete': 1, 'heart': 1, 'Got': 1, 'tooth': 1, 'for': 1, 'sweetheart': 1, 'Its': 1, 'gonna': 1, 'be': 1, 'just': 1, 'dandy': 1, 'The': 1, 'day': 1, 'take': 1, 'make': 1, 'all': 1, 'Mine': 1})\n",
      "Some say that love is sweet as a rose,\n",
      "Some say it's honey and the bee,\n",
      "Well sit right down and let me tell you\n",
      "What my love is to me.\n",
      "\n",
      "\"Candy\"\n",
      "I call my sugar \"Candy\"\n",
      "Because I'm sweet on \"Candy\"\n",
      "And \"Candy\" is sweet on me\n",
      "\n",
      "He/She understands me,\n",
      "My understanding \"Candy\"\n",
      "And \"Candy\"'s always handy\n",
      "When I need sympathy\n",
      "I wish that there were four of him/her\n",
      "So I could love much more of him/her\n",
      "\n",
      "He/She has taken my complete heart,\n",
      "Got a sweet tooth for my sweetheart\n",
      "\"Candy\"\n",
      "Its gonna be just dandy\n",
      "The day I take my \"Candy\"\n",
      "And make him mine all mine\n",
      "Mine\n"
     ]
    }
   ],
   "source": [
    "#import numpy as np\n",
    "import os\n",
    "import re\n",
    "from collections import Counter\n",
    "\n",
    "#Allow user to specify lyrics directory loaction\n",
    "for file in os.listdir(\"/home/kss2170/TFA_Project/Lyrics\"):\n",
    "    if file.endswith(\".txt\"):\n",
    "        if file == \"840~Candy~Big Maybelle.txt\":\n",
    "            print(file)\n",
    "            path = os.path.join(\"/home/kss2170/TFA_Project/Lyrics\", file)\n",
    "            file_txt = open(path,\"r\")\n",
    "            file_txt_str = file_txt.read()\n",
    "            regex = r\"\\w+\"\n",
    "            wrd_ls = re.findall(regex, file_txt_str)\n",
    "            counts = Counter(wrd_ls)\n",
    "            print(wrd_ls)\n",
    "            print(counts)\n",
    "            \n",
    "            print(file_txt_str)\n",
    "            #print(file_txt)\n",
    "#        print(os.path.join(\"/home/kss2170/TFA_Project/Lyrics\", file))"
   ]
  }
 ],
 "metadata": {
  "kernelspec": {
   "display_name": "Python 3",
   "language": "python",
   "name": "python3"
  },
  "language_info": {
   "codemirror_mode": {
    "name": "ipython",
    "version": 3
   },
   "file_extension": ".py",
   "mimetype": "text/x-python",
   "name": "python",
   "nbconvert_exporter": "python",
   "pygments_lexer": "ipython3",
   "version": "3.6.3"
  }
 },
 "nbformat": 4,
 "nbformat_minor": 2
}
